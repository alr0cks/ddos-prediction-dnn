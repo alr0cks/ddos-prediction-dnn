{
  "nbformat": 4,
  "nbformat_minor": 0,
  "metadata": {
    "colab": {
      "name": "DDos_Prediction.ipynb",
      "provenance": [],
      "collapsed_sections": []
    },
    "kernelspec": {
      "display_name": "Python 3",
      "language": "python",
      "name": "python3"
    },
    "language_info": {
      "codemirror_mode": {
        "name": "ipython",
        "version": 3
      },
      "file_extension": ".py",
      "mimetype": "text/x-python",
      "name": "python",
      "nbconvert_exporter": "python",
      "pygments_lexer": "ipython3",
      "version": "3.8.2"
    }
  },
  "cells": [
    {
      "cell_type": "code",
      "metadata": {
        "colab_type": "code",
        "id": "O4AYTFpvBG3Y",
        "colab": {}
      },
      "source": [
        "#!/usr/bin/env python"
      ],
      "execution_count": 0,
      "outputs": []
    },
    {
      "cell_type": "code",
      "metadata": {
        "colab_type": "code",
        "id": "d68KJ-lSBXr8",
        "outputId": "cd501a0b-4cc6-45cb-a470-aa44839bf43c",
        "colab": {
          "base_uri": "https://localhost:8080/",
          "height": 89
        }
      },
      "source": [
        "#Import Liabraries\n",
        "import numpy as np\n",
        "import pandas as pd\n",
        "import matplotlib.pyplot as plt\n",
        "import seaborn as sns;\n",
        "import pandas.util.testing as tm\n",
        "from sklearn.model_selection import train_test_split\n",
        "from sklearn.preprocessing import LabelEncoder, StandardScaler\n",
        "from keras.utils import plot_model\n",
        "from keras.models import Sequential, load_model\n",
        "from keras.layers import Dense\n",
        "from keras.utils import np_utils"
      ],
      "execution_count": 0,
      "outputs": [
        {
          "output_type": "stream",
          "text": [
            "/usr/local/lib/python3.6/dist-packages/statsmodels/tools/_testing.py:19: FutureWarning: pandas.util.testing is deprecated. Use the functions in the public API at pandas.testing instead.\n",
            "  import pandas.util.testing as tm\n",
            "Using TensorFlow backend.\n"
          ],
          "name": "stderr"
        }
      ]
    },
    {
      "cell_type": "code",
      "metadata": {
        "colab_type": "code",
        "id": "lXiZ4s1-BlSQ",
        "colab": {}
      },
      "source": [
        "# #Cleaning Dataset and Exporting as csv\n",
        "# data_attack = pd.read_csv('dataset_attack.csv')\n",
        "# data_normal = pd.read_csv('dataset_normal.csv')\n",
        "# data_normal.columns=[ 'frame.len', 'frame.protocols', 'ip.hdr_len',\n",
        "#        'ip.len', 'ip.flags.rb', 'ip.flags.df', 'p.flags.mf', 'ip.frag_offset',\n",
        "#        'ip.ttl', 'ip.proto', 'ip.src', 'ip.dst', 'tcp.srcport', 'tcp.dstport',\n",
        "#        'tcp.len', 'tcp.ack', 'tcp.flags.res', 'tcp.flags.ns', 'tcp.flags.cwr',\n",
        "#        'tcp.flags.ecn', 'tcp.flags.urg', 'tcp.flags.ack', 'tcp.flags.push',\n",
        "#        'tcp.flags.reset', 'tcp.flags.syn', 'tcp.flags.fin', 'tcp.window_size',\n",
        "#        'tcp.time_delta','class']\n",
        "# data_attack.columns=[ 'frame.len', 'frame.protocols', 'ip.hdr_len',\n",
        "#        'ip.len', 'ip.flags.rb', 'ip.flags.df', 'p.flags.mf', 'ip.frag_offset',\n",
        "#        'ip.ttl', 'ip.proto', 'ip.src', 'ip.dst', 'tcp.srcport', 'tcp.dstport',\n",
        "#        'tcp.len', 'tcp.ack', 'tcp.flags.res', 'tcp.flags.ns', 'tcp.flags.cwr',\n",
        "#        'tcp.flags.ecn', 'tcp.flags.urg', 'tcp.flags.ack', 'tcp.flags.push',\n",
        "#        'tcp.flags.reset', 'tcp.flags.syn', 'tcp.flags.fin', 'tcp.window_size',\n",
        "#        'tcp.time_delta','class']\n",
        "# data_normal.to_csv (r'dataset_normal_cleaned.csv', index=False, header=True)\n",
        "# data_attack.to_csv (r'dataset_attack_cleaned.csv', index=False, header=True)"
      ],
      "execution_count": 0,
      "outputs": []
    },
    {
      "cell_type": "markdown",
      "metadata": {
        "id": "5mk0az7ISb8c",
        "colab_type": "text"
      },
      "source": [
        "## Import Dataset from Google Drive"
      ]
    },
    {
      "cell_type": "code",
      "metadata": {
        "id": "J4Ldj3SJ9YlM",
        "colab_type": "code",
        "outputId": "e48ae7f0-8409-48ad-9c3c-c202171ad9de",
        "colab": {
          "base_uri": "https://localhost:8080/",
          "height": 124
        }
      },
      "source": [
        "from google.colab import drive\n",
        "drive.mount('/content/drive')"
      ],
      "execution_count": 0,
      "outputs": [
        {
          "output_type": "stream",
          "text": [
            "Go to this URL in a browser: https://accounts.google.com/o/oauth2/auth?client_id=947318989803-6bn6qk8qdgf4n4g3pfee6491hc0brc4i.apps.googleusercontent.com&redirect_uri=urn%3aietf%3awg%3aoauth%3a2.0%3aoob&response_type=code&scope=email%20https%3a%2f%2fwww.googleapis.com%2fauth%2fdocs.test%20https%3a%2f%2fwww.googleapis.com%2fauth%2fdrive%20https%3a%2f%2fwww.googleapis.com%2fauth%2fdrive.photos.readonly%20https%3a%2f%2fwww.googleapis.com%2fauth%2fpeopleapi.readonly\n",
            "\n",
            "Enter your authorization code:\n",
            "··········\n",
            "Mounted at /content/drive\n"
          ],
          "name": "stdout"
        }
      ]
    },
    {
      "cell_type": "code",
      "metadata": {
        "id": "mUs4P4pq9YlM",
        "colab_type": "code",
        "outputId": "d32a2987-fef8-4144-a030-abefaaf9d5a7",
        "colab": {
          "base_uri": "https://localhost:8080/",
          "height": 226
        }
      },
      "source": [
        "path = \"/content/drive/My Drive/Datasets/dataset_attack_cleaned.csv\"\n",
        "data_attack = pd.read_csv(path)\n",
        "data_attack.head()"
      ],
      "execution_count": 0,
      "outputs": [
        {
          "output_type": "execute_result",
          "data": {
            "text/html": [
              "<div>\n",
              "<style scoped>\n",
              "    .dataframe tbody tr th:only-of-type {\n",
              "        vertical-align: middle;\n",
              "    }\n",
              "\n",
              "    .dataframe tbody tr th {\n",
              "        vertical-align: top;\n",
              "    }\n",
              "\n",
              "    .dataframe thead th {\n",
              "        text-align: right;\n",
              "    }\n",
              "</style>\n",
              "<table border=\"1\" class=\"dataframe\">\n",
              "  <thead>\n",
              "    <tr style=\"text-align: right;\">\n",
              "      <th></th>\n",
              "      <th>frame.len</th>\n",
              "      <th>frame.protocols</th>\n",
              "      <th>ip.hdr_len</th>\n",
              "      <th>ip.len</th>\n",
              "      <th>ip.flags.rb</th>\n",
              "      <th>ip.flags.df</th>\n",
              "      <th>p.flags.mf</th>\n",
              "      <th>ip.frag_offset</th>\n",
              "      <th>ip.ttl</th>\n",
              "      <th>ip.proto</th>\n",
              "      <th>ip.src</th>\n",
              "      <th>ip.dst</th>\n",
              "      <th>tcp.srcport</th>\n",
              "      <th>tcp.dstport</th>\n",
              "      <th>tcp.len</th>\n",
              "      <th>tcp.ack</th>\n",
              "      <th>tcp.flags.res</th>\n",
              "      <th>tcp.flags.ns</th>\n",
              "      <th>tcp.flags.cwr</th>\n",
              "      <th>tcp.flags.ecn</th>\n",
              "      <th>tcp.flags.urg</th>\n",
              "      <th>tcp.flags.ack</th>\n",
              "      <th>tcp.flags.push</th>\n",
              "      <th>tcp.flags.reset</th>\n",
              "      <th>tcp.flags.syn</th>\n",
              "      <th>tcp.flags.fin</th>\n",
              "      <th>tcp.window_size</th>\n",
              "      <th>tcp.time_delta</th>\n",
              "      <th>class</th>\n",
              "    </tr>\n",
              "  </thead>\n",
              "  <tbody>\n",
              "    <tr>\n",
              "      <th>0</th>\n",
              "      <td>212</td>\n",
              "      <td>eth:ethertype:ip:udp:data</td>\n",
              "      <td>20</td>\n",
              "      <td>198</td>\n",
              "      <td>0</td>\n",
              "      <td>0</td>\n",
              "      <td>0</td>\n",
              "      <td>0</td>\n",
              "      <td>112</td>\n",
              "      <td>17</td>\n",
              "      <td>178.95.241.121</td>\n",
              "      <td>192.168.2.107</td>\n",
              "      <td>0</td>\n",
              "      <td>0</td>\n",
              "      <td>0</td>\n",
              "      <td>0</td>\n",
              "      <td>0</td>\n",
              "      <td>0</td>\n",
              "      <td>0</td>\n",
              "      <td>0</td>\n",
              "      <td>0</td>\n",
              "      <td>0</td>\n",
              "      <td>0</td>\n",
              "      <td>0</td>\n",
              "      <td>0</td>\n",
              "      <td>0</td>\n",
              "      <td>0</td>\n",
              "      <td>0.0</td>\n",
              "      <td>attack</td>\n",
              "    </tr>\n",
              "    <tr>\n",
              "      <th>1</th>\n",
              "      <td>212</td>\n",
              "      <td>eth:ethertype:ip:udp:data</td>\n",
              "      <td>20</td>\n",
              "      <td>198</td>\n",
              "      <td>0</td>\n",
              "      <td>0</td>\n",
              "      <td>0</td>\n",
              "      <td>0</td>\n",
              "      <td>112</td>\n",
              "      <td>17</td>\n",
              "      <td>178.95.241.121</td>\n",
              "      <td>192.168.2.107</td>\n",
              "      <td>0</td>\n",
              "      <td>0</td>\n",
              "      <td>0</td>\n",
              "      <td>0</td>\n",
              "      <td>0</td>\n",
              "      <td>0</td>\n",
              "      <td>0</td>\n",
              "      <td>0</td>\n",
              "      <td>0</td>\n",
              "      <td>0</td>\n",
              "      <td>0</td>\n",
              "      <td>0</td>\n",
              "      <td>0</td>\n",
              "      <td>0</td>\n",
              "      <td>0</td>\n",
              "      <td>0.0</td>\n",
              "      <td>attack</td>\n",
              "    </tr>\n",
              "    <tr>\n",
              "      <th>2</th>\n",
              "      <td>212</td>\n",
              "      <td>eth:ethertype:ip:udp:data</td>\n",
              "      <td>20</td>\n",
              "      <td>198</td>\n",
              "      <td>0</td>\n",
              "      <td>0</td>\n",
              "      <td>0</td>\n",
              "      <td>0</td>\n",
              "      <td>112</td>\n",
              "      <td>17</td>\n",
              "      <td>178.95.241.121</td>\n",
              "      <td>192.168.2.107</td>\n",
              "      <td>0</td>\n",
              "      <td>0</td>\n",
              "      <td>0</td>\n",
              "      <td>0</td>\n",
              "      <td>0</td>\n",
              "      <td>0</td>\n",
              "      <td>0</td>\n",
              "      <td>0</td>\n",
              "      <td>0</td>\n",
              "      <td>0</td>\n",
              "      <td>0</td>\n",
              "      <td>0</td>\n",
              "      <td>0</td>\n",
              "      <td>0</td>\n",
              "      <td>0</td>\n",
              "      <td>0.0</td>\n",
              "      <td>attack</td>\n",
              "    </tr>\n",
              "    <tr>\n",
              "      <th>3</th>\n",
              "      <td>212</td>\n",
              "      <td>eth:ethertype:ip:udp:data</td>\n",
              "      <td>20</td>\n",
              "      <td>198</td>\n",
              "      <td>0</td>\n",
              "      <td>0</td>\n",
              "      <td>0</td>\n",
              "      <td>0</td>\n",
              "      <td>112</td>\n",
              "      <td>17</td>\n",
              "      <td>178.95.241.121</td>\n",
              "      <td>192.168.2.107</td>\n",
              "      <td>0</td>\n",
              "      <td>0</td>\n",
              "      <td>0</td>\n",
              "      <td>0</td>\n",
              "      <td>0</td>\n",
              "      <td>0</td>\n",
              "      <td>0</td>\n",
              "      <td>0</td>\n",
              "      <td>0</td>\n",
              "      <td>0</td>\n",
              "      <td>0</td>\n",
              "      <td>0</td>\n",
              "      <td>0</td>\n",
              "      <td>0</td>\n",
              "      <td>0</td>\n",
              "      <td>0.0</td>\n",
              "      <td>attack</td>\n",
              "    </tr>\n",
              "    <tr>\n",
              "      <th>4</th>\n",
              "      <td>62</td>\n",
              "      <td>eth:ethertype:ip:udp:data</td>\n",
              "      <td>20</td>\n",
              "      <td>48</td>\n",
              "      <td>0</td>\n",
              "      <td>0</td>\n",
              "      <td>0</td>\n",
              "      <td>0</td>\n",
              "      <td>128</td>\n",
              "      <td>17</td>\n",
              "      <td>192.168.2.107</td>\n",
              "      <td>178.95.241.121</td>\n",
              "      <td>0</td>\n",
              "      <td>0</td>\n",
              "      <td>0</td>\n",
              "      <td>0</td>\n",
              "      <td>0</td>\n",
              "      <td>0</td>\n",
              "      <td>0</td>\n",
              "      <td>0</td>\n",
              "      <td>0</td>\n",
              "      <td>0</td>\n",
              "      <td>0</td>\n",
              "      <td>0</td>\n",
              "      <td>0</td>\n",
              "      <td>0</td>\n",
              "      <td>0</td>\n",
              "      <td>0.0</td>\n",
              "      <td>attack</td>\n",
              "    </tr>\n",
              "  </tbody>\n",
              "</table>\n",
              "</div>"
            ],
            "text/plain": [
              "   frame.len            frame.protocols  ...  tcp.time_delta   class\n",
              "0        212  eth:ethertype:ip:udp:data  ...             0.0  attack\n",
              "1        212  eth:ethertype:ip:udp:data  ...             0.0  attack\n",
              "2        212  eth:ethertype:ip:udp:data  ...             0.0  attack\n",
              "3        212  eth:ethertype:ip:udp:data  ...             0.0  attack\n",
              "4         62  eth:ethertype:ip:udp:data  ...             0.0  attack\n",
              "\n",
              "[5 rows x 29 columns]"
            ]
          },
          "metadata": {
            "tags": []
          },
          "execution_count": 6
        }
      ]
    },
    {
      "cell_type": "code",
      "metadata": {
        "colab_type": "code",
        "id": "nV46tkd5v8z4",
        "outputId": "b67d00d8-9334-49a3-80b8-29c334cb3273",
        "colab": {
          "base_uri": "https://localhost:8080/",
          "height": 226
        }
      },
      "source": [
        "path = \"/content/drive/My Drive/Datasets/dataset_normal_cleaned.csv\"\n",
        "data_normal = pd.read_csv(path)\n",
        "data_normal.head()"
      ],
      "execution_count": 0,
      "outputs": [
        {
          "output_type": "execute_result",
          "data": {
            "text/html": [
              "<div>\n",
              "<style scoped>\n",
              "    .dataframe tbody tr th:only-of-type {\n",
              "        vertical-align: middle;\n",
              "    }\n",
              "\n",
              "    .dataframe tbody tr th {\n",
              "        vertical-align: top;\n",
              "    }\n",
              "\n",
              "    .dataframe thead th {\n",
              "        text-align: right;\n",
              "    }\n",
              "</style>\n",
              "<table border=\"1\" class=\"dataframe\">\n",
              "  <thead>\n",
              "    <tr style=\"text-align: right;\">\n",
              "      <th></th>\n",
              "      <th>frame.len</th>\n",
              "      <th>frame.protocols</th>\n",
              "      <th>ip.hdr_len</th>\n",
              "      <th>ip.len</th>\n",
              "      <th>ip.flags.rb</th>\n",
              "      <th>ip.flags.df</th>\n",
              "      <th>p.flags.mf</th>\n",
              "      <th>ip.frag_offset</th>\n",
              "      <th>ip.ttl</th>\n",
              "      <th>ip.proto</th>\n",
              "      <th>ip.src</th>\n",
              "      <th>ip.dst</th>\n",
              "      <th>tcp.srcport</th>\n",
              "      <th>tcp.dstport</th>\n",
              "      <th>tcp.len</th>\n",
              "      <th>tcp.ack</th>\n",
              "      <th>tcp.flags.res</th>\n",
              "      <th>tcp.flags.ns</th>\n",
              "      <th>tcp.flags.cwr</th>\n",
              "      <th>tcp.flags.ecn</th>\n",
              "      <th>tcp.flags.urg</th>\n",
              "      <th>tcp.flags.ack</th>\n",
              "      <th>tcp.flags.push</th>\n",
              "      <th>tcp.flags.reset</th>\n",
              "      <th>tcp.flags.syn</th>\n",
              "      <th>tcp.flags.fin</th>\n",
              "      <th>tcp.window_size</th>\n",
              "      <th>tcp.time_delta</th>\n",
              "      <th>class</th>\n",
              "    </tr>\n",
              "  </thead>\n",
              "  <tbody>\n",
              "    <tr>\n",
              "      <th>0</th>\n",
              "      <td>206</td>\n",
              "      <td>eth:ethertype:ip:tcp:ssh</td>\n",
              "      <td>20</td>\n",
              "      <td>192</td>\n",
              "      <td>0</td>\n",
              "      <td>1</td>\n",
              "      <td>0</td>\n",
              "      <td>0</td>\n",
              "      <td>128</td>\n",
              "      <td>6</td>\n",
              "      <td>192.168.1.101</td>\n",
              "      <td>192.168.5.122</td>\n",
              "      <td>4175</td>\n",
              "      <td>22</td>\n",
              "      <td>152</td>\n",
              "      <td>1</td>\n",
              "      <td>0</td>\n",
              "      <td>0</td>\n",
              "      <td>0</td>\n",
              "      <td>0</td>\n",
              "      <td>0</td>\n",
              "      <td>1</td>\n",
              "      <td>1</td>\n",
              "      <td>0</td>\n",
              "      <td>0</td>\n",
              "      <td>0</td>\n",
              "      <td>16697</td>\n",
              "      <td>0.000000</td>\n",
              "      <td>normal</td>\n",
              "    </tr>\n",
              "    <tr>\n",
              "      <th>1</th>\n",
              "      <td>60</td>\n",
              "      <td>eth:ethertype:ip:tcp</td>\n",
              "      <td>20</td>\n",
              "      <td>40</td>\n",
              "      <td>0</td>\n",
              "      <td>1</td>\n",
              "      <td>0</td>\n",
              "      <td>0</td>\n",
              "      <td>64</td>\n",
              "      <td>6</td>\n",
              "      <td>192.168.5.122</td>\n",
              "      <td>192.168.1.101</td>\n",
              "      <td>22</td>\n",
              "      <td>4175</td>\n",
              "      <td>0</td>\n",
              "      <td>153</td>\n",
              "      <td>0</td>\n",
              "      <td>0</td>\n",
              "      <td>0</td>\n",
              "      <td>0</td>\n",
              "      <td>0</td>\n",
              "      <td>1</td>\n",
              "      <td>0</td>\n",
              "      <td>0</td>\n",
              "      <td>0</td>\n",
              "      <td>0</td>\n",
              "      <td>7504</td>\n",
              "      <td>0.000537</td>\n",
              "      <td>normal</td>\n",
              "    </tr>\n",
              "    <tr>\n",
              "      <th>2</th>\n",
              "      <td>60</td>\n",
              "      <td>eth:ethertype:ip:tcp</td>\n",
              "      <td>20</td>\n",
              "      <td>40</td>\n",
              "      <td>0</td>\n",
              "      <td>1</td>\n",
              "      <td>0</td>\n",
              "      <td>0</td>\n",
              "      <td>63</td>\n",
              "      <td>6</td>\n",
              "      <td>192.168.5.122</td>\n",
              "      <td>192.168.1.101</td>\n",
              "      <td>22</td>\n",
              "      <td>4175</td>\n",
              "      <td>0</td>\n",
              "      <td>153</td>\n",
              "      <td>0</td>\n",
              "      <td>0</td>\n",
              "      <td>0</td>\n",
              "      <td>0</td>\n",
              "      <td>0</td>\n",
              "      <td>1</td>\n",
              "      <td>0</td>\n",
              "      <td>0</td>\n",
              "      <td>0</td>\n",
              "      <td>0</td>\n",
              "      <td>7504</td>\n",
              "      <td>0.000155</td>\n",
              "      <td>normal</td>\n",
              "    </tr>\n",
              "    <tr>\n",
              "      <th>3</th>\n",
              "      <td>774</td>\n",
              "      <td>eth:ethertype:ip:tcp:ssh</td>\n",
              "      <td>20</td>\n",
              "      <td>760</td>\n",
              "      <td>0</td>\n",
              "      <td>1</td>\n",
              "      <td>0</td>\n",
              "      <td>0</td>\n",
              "      <td>64</td>\n",
              "      <td>6</td>\n",
              "      <td>192.168.5.122</td>\n",
              "      <td>192.168.1.101</td>\n",
              "      <td>22</td>\n",
              "      <td>4175</td>\n",
              "      <td>720</td>\n",
              "      <td>153</td>\n",
              "      <td>0</td>\n",
              "      <td>0</td>\n",
              "      <td>0</td>\n",
              "      <td>0</td>\n",
              "      <td>0</td>\n",
              "      <td>1</td>\n",
              "      <td>1</td>\n",
              "      <td>0</td>\n",
              "      <td>0</td>\n",
              "      <td>0</td>\n",
              "      <td>7504</td>\n",
              "      <td>0.004483</td>\n",
              "      <td>normal</td>\n",
              "    </tr>\n",
              "    <tr>\n",
              "      <th>4</th>\n",
              "      <td>774</td>\n",
              "      <td>eth:ethertype:ip:tcp</td>\n",
              "      <td>20</td>\n",
              "      <td>760</td>\n",
              "      <td>0</td>\n",
              "      <td>1</td>\n",
              "      <td>0</td>\n",
              "      <td>0</td>\n",
              "      <td>63</td>\n",
              "      <td>6</td>\n",
              "      <td>192.168.5.122</td>\n",
              "      <td>192.168.1.101</td>\n",
              "      <td>22</td>\n",
              "      <td>4175</td>\n",
              "      <td>720</td>\n",
              "      <td>153</td>\n",
              "      <td>0</td>\n",
              "      <td>0</td>\n",
              "      <td>0</td>\n",
              "      <td>0</td>\n",
              "      <td>0</td>\n",
              "      <td>1</td>\n",
              "      <td>1</td>\n",
              "      <td>0</td>\n",
              "      <td>0</td>\n",
              "      <td>0</td>\n",
              "      <td>7504</td>\n",
              "      <td>0.001321</td>\n",
              "      <td>normal</td>\n",
              "    </tr>\n",
              "  </tbody>\n",
              "</table>\n",
              "</div>"
            ],
            "text/plain": [
              "   frame.len           frame.protocols  ...  tcp.time_delta   class\n",
              "0        206  eth:ethertype:ip:tcp:ssh  ...        0.000000  normal\n",
              "1         60      eth:ethertype:ip:tcp  ...        0.000537  normal\n",
              "2         60      eth:ethertype:ip:tcp  ...        0.000155  normal\n",
              "3        774  eth:ethertype:ip:tcp:ssh  ...        0.004483  normal\n",
              "4        774      eth:ethertype:ip:tcp  ...        0.001321  normal\n",
              "\n",
              "[5 rows x 29 columns]"
            ]
          },
          "metadata": {
            "tags": []
          },
          "execution_count": 7
        }
      ]
    },
    {
      "cell_type": "markdown",
      "metadata": {
        "id": "NIlLAEvmSnws",
        "colab_type": "text"
      },
      "source": [
        "## Data Preprocessing"
      ]
    },
    {
      "cell_type": "code",
      "metadata": {
        "id": "K6Q-yJ2g9YlM",
        "colab_type": "code",
        "colab": {}
      },
      "source": [
        "#Drop Unwanted Columns\n",
        "data_normal=data_normal.drop(['ip.src', 'ip.dst','frame.protocols'],axis=1)\n",
        "data_attack=data_attack.drop(['ip.src', 'ip.dst','frame.protocols'],axis=1)\n"
      ],
      "execution_count": 0,
      "outputs": []
    },
    {
      "cell_type": "code",
      "metadata": {
        "id": "rKDzH4uw9YlM",
        "colab_type": "code",
        "outputId": "d480de9f-5234-49dc-a29a-b3415a454d6e",
        "colab": {
          "base_uri": "https://localhost:8080/",
          "height": 54
        }
      },
      "source": [
        "# Feature Selection for training\n",
        "features = data_attack.head(0)\n",
        "features=data_attack.columns.tolist()\n",
        "features.remove(\"class\")\n",
        "print(features)"
      ],
      "execution_count": 0,
      "outputs": [
        {
          "output_type": "stream",
          "text": [
            "['frame.len', 'ip.hdr_len', 'ip.len', 'ip.flags.rb', 'ip.flags.df', 'p.flags.mf', 'ip.frag_offset', 'ip.ttl', 'ip.proto', 'tcp.srcport', 'tcp.dstport', 'tcp.len', 'tcp.ack', 'tcp.flags.res', 'tcp.flags.ns', 'tcp.flags.cwr', 'tcp.flags.ecn', 'tcp.flags.urg', 'tcp.flags.ack', 'tcp.flags.push', 'tcp.flags.reset', 'tcp.flags.syn', 'tcp.flags.fin', 'tcp.window_size', 'tcp.time_delta']\n"
          ],
          "name": "stdout"
        }
      ]
    },
    {
      "cell_type": "code",
      "metadata": {
        "id": "F5H6iwKL9Ymw",
        "colab_type": "code",
        "colab": {}
      },
      "source": [
        "#Combinig dataset for training and testing\n",
        "X_normal= data_normal[features].values\n",
        "X_attack= data_attack[features].values\n",
        "Y_normal= data_normal['class']\n",
        "Y_attack= data_attack['class']\n",
        "X=np.concatenate((X_normal,X_attack))\n",
        "Y=np.concatenate((Y_normal,Y_attack))"
      ],
      "execution_count": 0,
      "outputs": []
    },
    {
      "cell_type": "code",
      "metadata": {
        "id": "jBLiQxgwTuxQ",
        "colab_type": "code",
        "colab": {}
      },
      "source": [
        "#Standardise Data to scale Numerical features\n",
        "scalar = StandardScaler(copy=True, with_mean=True, with_std=True)\n",
        "X = scalar.fit_transform(X)"
      ],
      "execution_count": 0,
      "outputs": []
    },
    {
      "cell_type": "code",
      "metadata": {
        "id": "lY60B-aI9Ymw",
        "colab_type": "code",
        "outputId": "15cd2b61-d59f-40e6-b01a-863972231e4b",
        "colab": {
          "base_uri": "https://localhost:8080/",
          "height": 34
        }
      },
      "source": [
        "# Transform Categorical values with Label Encoder\n",
        "labelencoder = LabelEncoder()\n",
        "Y = labelencoder.fit_transform(Y)\n",
        "print(Y)"
      ],
      "execution_count": 0,
      "outputs": [
        {
          "output_type": "stream",
          "text": [
            "[1 1 1 ... 0 0 0]\n"
          ],
          "name": "stdout"
        }
      ]
    },
    {
      "cell_type": "markdown",
      "metadata": {
        "id": "nQa6x7QfV0zY",
        "colab_type": "text"
      },
      "source": [
        "## Model Training"
      ]
    },
    {
      "cell_type": "code",
      "metadata": {
        "id": "_yJLj1MXLxEI",
        "colab_type": "code",
        "outputId": "f11cdfdf-7369-4f73-f840-40519c081fa5",
        "colab": {
          "base_uri": "https://localhost:8080/",
          "height": 34
        }
      },
      "source": [
        "#Split data into train and test\n",
        "X_train, X_test, Y_train, Y_test = train_test_split(X, Y, test_size = 0.2)\n",
        "print(Y_train)   "
      ],
      "execution_count": 0,
      "outputs": [
        {
          "output_type": "stream",
          "text": [
            "[0 0 0 ... 0 0 1]\n"
          ],
          "name": "stdout"
        }
      ]
    },
    {
      "cell_type": "markdown",
      "metadata": {
        "id": "utSoypetZ-G0",
        "colab_type": "text"
      },
      "source": [
        "## Create Model"
      ]
    },
    {
      "cell_type": "code",
      "metadata": {
        "id": "-8S9w2vTM_JA",
        "colab_type": "code",
        "colab": {}
      },
      "source": [
        "# create the model\n",
        "def create_baseline():\n",
        "    model = Sequential()\n",
        "    model.add(Dense(8, kernel_initializer='normal', activation='relu'))\n",
        "    model.add(Dense(1, kernel_initializer='normal', activation='sigmoid'))\n",
        "    # Compile model. We use the the logarithmic loss function, and the Adam gradient optimizer.\n",
        "    model.compile(loss='binary_crossentropy', optimizer='adam', metrics=['accuracy'])\n",
        "    return model\n",
        "\n",
        "model = create_baseline()"
      ],
      "execution_count": 0,
      "outputs": []
    },
    {
      "cell_type": "markdown",
      "metadata": {
        "id": "Dd_TAq1eaGdM",
        "colab_type": "text"
      },
      "source": [
        "## Fit Training Data and Train model"
      ]
    },
    {
      "cell_type": "code",
      "metadata": {
        "id": "-Oa4Rz0CiGrc",
        "colab_type": "code",
        "outputId": "cf8334de-c7a0-4dba-9995-b6a1dcaa081f",
        "colab": {
          "base_uri": "https://localhost:8080/",
          "height": 903
        }
      },
      "source": [
        "Learn = model.fit(X_train, Y_train, validation_split = 0.2, epochs = 25)"
      ],
      "execution_count": 0,
      "outputs": [
        {
          "output_type": "stream",
          "text": [
            "Train on 3621758 samples, validate on 905440 samples\n",
            "Epoch 1/25\n",
            "3621758/3621758 [==============================] - 141s 39us/step - loss: 0.3480 - accuracy: 0.8237 - val_loss: 0.3208 - val_accuracy: 0.8356\n",
            "Epoch 2/25\n",
            "3621758/3621758 [==============================] - 141s 39us/step - loss: 0.3108 - accuracy: 0.8479 - val_loss: 0.3029 - val_accuracy: 0.8576\n",
            "Epoch 3/25\n",
            "3621758/3621758 [==============================] - 146s 40us/step - loss: 0.3015 - accuracy: 0.8557 - val_loss: 0.3010 - val_accuracy: 0.8527\n",
            "Epoch 4/25\n",
            "3621758/3621758 [==============================] - 142s 39us/step - loss: 0.2978 - accuracy: 0.8569 - val_loss: 0.2978 - val_accuracy: 0.8584\n",
            "Epoch 5/25\n",
            "3621758/3621758 [==============================] - 143s 39us/step - loss: 0.2954 - accuracy: 0.8573 - val_loss: 0.2997 - val_accuracy: 0.8521\n",
            "Epoch 6/25\n",
            "3621758/3621758 [==============================] - 142s 39us/step - loss: 0.2947 - accuracy: 0.8574 - val_loss: 0.2947 - val_accuracy: 0.8556\n",
            "Epoch 7/25\n",
            "3621758/3621758 [==============================] - 143s 39us/step - loss: 0.2940 - accuracy: 0.8578 - val_loss: 0.2949 - val_accuracy: 0.8590\n",
            "Epoch 8/25\n",
            "3621758/3621758 [==============================] - 142s 39us/step - loss: 0.2934 - accuracy: 0.8582 - val_loss: 0.2922 - val_accuracy: 0.8596\n",
            "Epoch 9/25\n",
            "3621758/3621758 [==============================] - 143s 40us/step - loss: 0.2929 - accuracy: 0.8587 - val_loss: 0.2937 - val_accuracy: 0.8590\n",
            "Epoch 10/25\n",
            "3621758/3621758 [==============================] - 141s 39us/step - loss: 0.2927 - accuracy: 0.8589 - val_loss: 0.2941 - val_accuracy: 0.8559\n",
            "Epoch 11/25\n",
            "3621758/3621758 [==============================] - 143s 39us/step - loss: 0.2926 - accuracy: 0.8587 - val_loss: 0.2958 - val_accuracy: 0.8530\n",
            "Epoch 12/25\n",
            "3621758/3621758 [==============================] - 143s 39us/step - loss: 0.2924 - accuracy: 0.8590 - val_loss: 0.2925 - val_accuracy: 0.8583\n",
            "Epoch 13/25\n",
            "3621758/3621758 [==============================] - 142s 39us/step - loss: 0.2923 - accuracy: 0.8592 - val_loss: 0.2955 - val_accuracy: 0.8637\n",
            "Epoch 14/25\n",
            "3621758/3621758 [==============================] - 143s 39us/step - loss: 0.2922 - accuracy: 0.8590 - val_loss: 0.2972 - val_accuracy: 0.8453\n",
            "Epoch 15/25\n",
            "3621758/3621758 [==============================] - 142s 39us/step - loss: 0.2921 - accuracy: 0.8592 - val_loss: 0.2944 - val_accuracy: 0.8567\n",
            "Epoch 16/25\n",
            "3621758/3621758 [==============================] - 143s 39us/step - loss: 0.2921 - accuracy: 0.8591 - val_loss: 0.2951 - val_accuracy: 0.8617\n",
            "Epoch 17/25\n",
            "3621758/3621758 [==============================] - 142s 39us/step - loss: 0.2919 - accuracy: 0.8593 - val_loss: 0.2921 - val_accuracy: 0.8613\n",
            "Epoch 18/25\n",
            "3621758/3621758 [==============================] - 143s 39us/step - loss: 0.2919 - accuracy: 0.8593 - val_loss: 0.2919 - val_accuracy: 0.8612\n",
            "Epoch 19/25\n",
            "3621758/3621758 [==============================] - 142s 39us/step - loss: 0.2918 - accuracy: 0.8595 - val_loss: 0.2942 - val_accuracy: 0.8516\n",
            "Epoch 20/25\n",
            "3621758/3621758 [==============================] - 143s 40us/step - loss: 0.2917 - accuracy: 0.8595 - val_loss: 0.2937 - val_accuracy: 0.8656\n",
            "Epoch 21/25\n",
            "3621758/3621758 [==============================] - 142s 39us/step - loss: 0.2917 - accuracy: 0.8594 - val_loss: 0.2958 - val_accuracy: 0.8588\n",
            "Epoch 22/25\n",
            "3621758/3621758 [==============================] - 144s 40us/step - loss: 0.2916 - accuracy: 0.8596 - val_loss: 0.2948 - val_accuracy: 0.8592\n",
            "Epoch 23/25\n",
            "3621758/3621758 [==============================] - 141s 39us/step - loss: 0.2916 - accuracy: 0.8596 - val_loss: 0.2930 - val_accuracy: 0.8585\n",
            "Epoch 24/25\n",
            "3621758/3621758 [==============================] - 142s 39us/step - loss: 0.2916 - accuracy: 0.8596 - val_loss: 0.2914 - val_accuracy: 0.8577\n",
            "Epoch 25/25\n",
            "3621758/3621758 [==============================] - 142s 39us/step - loss: 0.2915 - accuracy: 0.8596 - val_loss: 0.2922 - val_accuracy: 0.8586\n"
          ],
          "name": "stdout"
        }
      ]
    },
    {
      "cell_type": "markdown",
      "metadata": {
        "id": "3YnSeXKmaYNI",
        "colab_type": "text"
      },
      "source": [
        "## Display Output"
      ]
    },
    {
      "cell_type": "code",
      "metadata": {
        "id": "2X8C0_3z440k",
        "colab_type": "code",
        "outputId": "5df6bcbc-57e5-4b58-edaf-c0110b79f5ae",
        "colab": {
          "base_uri": "https://localhost:8080/",
          "height": 295
        }
      },
      "source": [
        "# Training and Validation Accuracy Values\n",
        "plt.plot(Learn.history['accuracy'])\n",
        "plt.plot(Learn.history['val_accuracy'])\n",
        "plt.title('ANN Model Accuracy')\n",
        "plt.ylabel('Accuracy')\n",
        "plt.xlabel('Epoch')\n",
        "plt.legend(['Train', 'Test'], loc='upper left')\n",
        "plt.show()"
      ],
      "execution_count": 0,
      "outputs": [
        {
          "output_type": "display_data",
          "data": {
            "image/png": "[encoded data removed]",
            "text/plain": [
              "<Figure size 432x288 with 1 Axes>"
            ]
          },
          "metadata": {
            "tags": [],
            "needs_background": "light"
          }
        }
      ]
    },
    {
      "cell_type": "code",
      "metadata": {
        "id": "g9AJb_wqEjho",
        "colab_type": "code",
        "outputId": "2fbc47e1-cb30-47aa-bd55-c45531f75b1a",
        "colab": {
          "base_uri": "https://localhost:8080/",
          "height": 295
        }
      },
      "source": [
        "# Training and Validation Loss Values\n",
        "plt.plot( Learn.history['loss'])\n",
        "plt.plot(Learn.history['val_loss'])\n",
        "plt.title('ANN Model Loss')\n",
        "plt.ylabel('Loss')\n",
        "plt.xlabel('Epoch')\n",
        "plt.legend(['Train', 'Test'], loc='upper left')\n",
        "plt.show()"
      ],
      "execution_count": 0,
      "outputs": [
        {
          "output_type": "display_data",
          "data": {
            "image/png": "[encoded data removed]",
            "text/plain": [
              "<Figure size 432x288 with 1 Axes>"
            ]
          },
          "metadata": {
            "tags": [],
            "needs_background": "light"
          }
        }
      ]
    },
    {
      "cell_type": "code",
      "metadata": {
        "id": "K6Nc2iKIVZCk",
        "colab_type": "code",
        "outputId": "57921be1-3036-4286-f3fb-6903483b33bb",
        "colab": {
          "base_uri": "https://localhost:8080/",
          "height": 34
        }
      },
      "source": [
        "predict = model.predict(X_test, verbose=1)"
      ],
      "execution_count": 0,
      "outputs": [
        {
          "output_type": "stream",
          "text": [
            "1131800/1131800 [==============================] - 14s 12us/step\n"
          ],
          "name": "stdout"
        }
      ]
    },
    {
      "cell_type": "code",
      "metadata": {
        "id": "wr5B0XjoVu14",
        "colab_type": "code",
        "colab": {}
      },
      "source": [
        "# Calculate True Positive, True Negative, False Positive, False Negative\n",
        "tp = 0\n",
        "tn = 0\n",
        "fp = 0\n",
        "fn = 0\n",
        "predictn = predict.flatten().round()\n",
        "predictn = predictn.tolist()\n",
        "Y_testn = Y_test.tolist()\n",
        "for i in range(len(Y_testn)):\n",
        "  if predictn[i]==1 and Y_testn[i]==1:\n",
        "    tp+=1\n",
        "  elif predictn[i]==0 and Y_testn[i]==0:\n",
        "    tn+=1\n",
        "  elif predictn[i]==0 and Y_testn[i]==1:\n",
        "    fp+=1\n",
        "  elif predictn[i]==1 and Y_testn[i]==0:\n",
        "    fn+=1"
      ],
      "execution_count": 0,
      "outputs": []
    },
    {
      "cell_type": "code",
      "metadata": {
        "id": "txuLbHSIWSSo",
        "colab_type": "code",
        "outputId": "71ca02ee-69ea-4af8-8cc1-4dd3d834a671",
        "colab": {
          "base_uri": "https://localhost:8080/",
          "height": 267
        }
      },
      "source": [
        "# Heatmap for Confusion Matrix\n",
        "to_heat_map =[[tn,fp],[fn,tp]]\n",
        "to_heat_map = pd.DataFrame(to_heat_map, index = [\"Attack\",\"Normal\"],columns = [\"Attack\",\"Normal\"])\n",
        "ax = sns.heatmap(to_heat_map,annot=True, fmt=\"d\")"
      ],
      "execution_count": 0,
      "outputs": [
        {
          "output_type": "display_data",
          "data": {
            "image/png": "[encoded data removed]",
            "text/plain": [
              "<Figure size 432x288 with 2 Axes>"
            ]
          },
          "metadata": {
            "tags": [],
            "needs_background": "light"
          }
        }
      ]
    },
    {
      "cell_type": "code",
      "metadata": {
        "id": "CBCc_nhbWe3U",
        "colab_type": "code",
        "outputId": "92e2dae6-36bf-4939-9101-4744e6e35854",
        "colab": {
          "base_uri": "https://localhost:8080/",
          "height": 312
        }
      },
      "source": [
        "#Model Architecture\n",
        "plot_model(model, show_shapes=True, show_layer_names=True)"
      ],
      "execution_count": 0,
      "outputs": [
        {
          "output_type": "execute_result",
          "data": {
            "image/png": "[encoded data removed]",
            "text/plain": [
              "<IPython.core.display.Image object>"
            ]
          },
          "metadata": {
            "tags": []
          },
          "execution_count": 62
        }
      ]
    },
    {
      "cell_type": "code",
      "metadata": {
        "id": "QxKHSOAxWzIM",
        "colab_type": "code",
        "outputId": "2419a749-6911-477b-f59e-d87b9b588904",
        "colab": {
          "base_uri": "https://localhost:8080/",
          "height": 52
        }
      },
      "source": [
        "# Accuracy\n",
        "scores = model.evaluate(X_test, Y_test, verbose=0)\n",
        "print(\"%s: %.2f%%\" % (model.metrics_names[0], scores[0]*100))\n",
        "print(\"%s: %.2f%%\" % (model.metrics_names[1], scores[1]*100))"
      ],
      "execution_count": 0,
      "outputs": [
        {
          "output_type": "stream",
          "text": [
            "loss: 29.11%\n",
            "accuracy: 85.98%\n"
          ],
          "name": "stdout"
        }
      ]
    }
  ]
}